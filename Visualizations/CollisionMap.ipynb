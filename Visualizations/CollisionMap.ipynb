{
 "cells": [
  {
   "cell_type": "code",
   "execution_count": 79,
   "id": "1933debb",
   "metadata": {},
   "outputs": [],
   "source": [
    "import folium\n",
    "import pandas as pd\n",
    "import csv\n",
    "map = folium.Map(location=[45.508888, -73.561668])"
   ]
  },
  {
   "cell_type": "code",
   "execution_count": 80,
   "id": "9abeecb8",
   "metadata": {},
   "outputs": [],
   "source": [
    "df = pd.read_csv(\"collisions_routieres.csv\")\n",
    "df=df.dropna(subset=['LOC_LONG'])\n",
    "df=df.dropna(subset=['LOC_LAT'])"
   ]
  },
  {
   "cell_type": "code",
   "execution_count": 81,
   "id": "3f62a2de",
   "metadata": {},
   "outputs": [],
   "source": [
    "max_LAT_value = df['LOC_LAT'].max()\n",
    "min_LAT_value = df['LOC_LAT'].min()\n",
    "max_LONG_value = df['LOC_LONG'].max()\n",
    "min_LONG_value = df['LOC_LONG'].min()"
   ]
  },
  {
   "cell_type": "code",
   "execution_count": 82,
   "id": "61b99da0",
   "metadata": {},
   "outputs": [],
   "source": [
    "Dict = {}\n",
    "for i, row in df.iterrows():\n",
    "    LAT = row['LOC_LAT']- min_LAT_value\n",
    "    LONG = abs(min_LONG_value)+row['LOC_LONG']\n",
    "    GRow=0\n",
    "    GCol=0\n",
    "    while(LAT>0):\n",
    "        LAT = LAT - 0.01\n",
    "        GRow=GRow+1\n",
    "    while(LONG>0):\n",
    "        LONG = LONG - 0.01\n",
    "        GCol=GCol+1\n",
    "    Dict[i] = {GRow : GCol}"
   ]
  },
  {
   "cell_type": "code",
   "execution_count": 83,
   "id": "3eb83ebb",
   "metadata": {},
   "outputs": [],
   "source": [
    "a_file = open(\"GridValues.csv\", \"w\")\n",
    "writer = csv.writer(a_file)\n",
    "for key, value in Dict.items():\n",
    "    writer.writerow([key, value])\n",
    "\n",
    "a_file.close()\n"
   ]
  },
  {
   "cell_type": "code",
   "execution_count": 84,
   "id": "8d5b08d7",
   "metadata": {
    "scrolled": false
   },
   "outputs": [],
   "source": [
    "\n",
    "Collisions = folium.FeatureGroup(\"Collisions\")\n",
    "df = df.reset_index() \n",
    "for i, row in df.iterrows():\n",
    "    Collisions.add_child(folium.CircleMarker(radius = 2, location = [row['LOC_LAT'],row['LOC_LONG']], popup =\"Street: \"+ str(row['RUE_ACCDN']), color='red', fill = True, fill_color = 'red'))\n",
    "map.add_child(Collisions)\n",
    "map.save(\"BorealisMap.html\")"
   ]
  },
  {
   "cell_type": "code",
   "execution_count": null,
   "id": "d30e3f50",
   "metadata": {},
   "outputs": [],
   "source": []
  }
 ],
 "metadata": {
  "kernelspec": {
   "display_name": "Python 3",
   "language": "python",
   "name": "python3"
  },
  "language_info": {
   "codemirror_mode": {
    "name": "ipython",
    "version": 3
   },
   "file_extension": ".py",
   "mimetype": "text/x-python",
   "name": "python",
   "nbconvert_exporter": "python",
   "pygments_lexer": "ipython3",
   "version": "3.8.8"
  }
 },
 "nbformat": 4,
 "nbformat_minor": 5
}

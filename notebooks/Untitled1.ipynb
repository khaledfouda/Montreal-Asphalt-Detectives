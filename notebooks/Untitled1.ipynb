{
 "cells": [
  {
   "cell_type": "code",
   "execution_count": 1,
   "id": "5ab4e5a2-56e6-409e-a856-63446a11ed4a",
   "metadata": {},
   "outputs": [],
   "source": []
  },
  {
   "cell_type": "code",
   "execution_count": null,
   "id": "776c7299-f5c5-4285-a92f-5f48f6ae2a26",
   "metadata": {},
   "outputs": [],
   "source": []
  },
  {
   "cell_type": "code",
   "execution_count": 2,
   "id": "bb6ba5f7-e059-4aaf-9281-f14688b30eb2",
   "metadata": {},
   "outputs": [],
   "source": []
  },
  {
   "cell_type": "code",
   "execution_count": null,
   "id": "18c7d3c8-cbad-471b-932e-f9977a2db260",
   "metadata": {},
   "outputs": [],
   "source": []
  },
  {
   "cell_type": "code",
   "execution_count": null,
   "id": "ba6aa8e8-1ff4-4b51-b749-5b558426aeb1",
   "metadata": {},
   "outputs": [],
   "source": []
  },
  {
   "cell_type": "code",
   "execution_count": 4,
   "id": "16f7d751-453b-4729-9559-4e63b8956c4a",
   "metadata": {},
   "outputs": [],
   "source": []
  },
  {
   "cell_type": "code",
   "execution_count": 3,
   "id": "2db60fdf-c6d1-4e16-a107-37991e1b12ac",
   "metadata": {},
   "outputs": [],
   "source": [
    "import pandas as pd\n",
    "from pyproj import Transformer\n",
    "\n",
    "data = pd.read_csv('../data/created/Road_conditions_2019_clean.csv')\n",
    "transformer = Transformer.from_crs(\"epsg:32188\", \"epsg:4326\")\n",
    "data['Latitude'], data['Longitude'] = transformer.transform(data.Coord_X,data.Coord_Y)"
   ]
  },
  {
   "cell_type": "code",
   "execution_count": 4,
   "id": "0438b129-a980-4345-a288-67b2129f5637",
   "metadata": {},
   "outputs": [],
   "source": [
    "data.to_csv('../data/created/Road_conditions_2019_clean_coordinates_fixed.csv', index=False)"
   ]
  },
  {
   "cell_type": "code",
   "execution_count": null,
   "id": "4108f1f8-6b8d-4fc2-8cb1-e3ca43d0661f",
   "metadata": {},
   "outputs": [],
   "source": []
  }
 ],
 "metadata": {
  "kernelspec": {
   "display_name": "Python 3 (ipykernel)",
   "language": "python",
   "name": "python3"
  },
  "language_info": {
   "codemirror_mode": {
    "name": "ipython",
    "version": 3
   },
   "file_extension": ".py",
   "mimetype": "text/x-python",
   "name": "python",
   "nbconvert_exporter": "python",
   "pygments_lexer": "ipython3",
   "version": "3.9.7"
  }
 },
 "nbformat": 4,
 "nbformat_minor": 5
}
